{
  "nbformat": 4,
  "nbformat_minor": 0,
  "metadata": {
    "colab": {
      "provenance": []
    },
    "kernelspec": {
      "name": "python3",
      "display_name": "Python 3"
    },
    "language_info": {
      "name": "python"
    }
  },
  "cells": [
    {
      "cell_type": "markdown",
      "source": [
        "# **PW SKILLS**\n",
        "## **BOOSTING TECHNIQUES ASSIGNMENT**"
      ],
      "metadata": {
        "id": "U58Nn1fliBfq"
      }
    },
    {
      "cell_type": "markdown",
      "source": [
        "## **Question 1: What is Boosting in Machine Learning? Explain how it improves weak learners.**\n",
        "\n",
        "Answer:\n",
        "Boosting is an ensemble learning technique that combines multiple weak learners (usually shallow decision trees) to create a strong predictive model. Unlike bagging, which trains models independently in parallel, boosting builds models sequentially. Each new model focuses on correcting the errors made by the previous ones.\n",
        "\n",
        "How it improves weak learners:\n",
        "\n",
        "Weighted focus on errors: In boosting, misclassified samples are given higher weights so that the next learner focuses more on those difficult cases.\n",
        "\n",
        "Sequential learning: Each model learns from the mistakes of its predecessor, gradually improving accuracy.\n",
        "\n",
        "Reduction in bias & variance: Boosting reduces both bias (by correcting mistakes) and variance (through aggregation of multiple models).\n",
        "\n",
        "Final strong learner: The weighted majority vote (classification) or weighted average (regression) of weak learners results in a highly accurate final model.\n",
        "\n",
        "In short, boosting transforms weak learners into a powerful strong learner by sequentially reducing errors."
      ],
      "metadata": {
        "id": "a4MOM0WNiO9-"
      }
    },
    {
      "cell_type": "markdown",
      "source": [
        "## **Question 2: What is the difference between AdaBoost and Gradient Boosting in terms of how models are trained?**\n",
        "\n",
        "Answer:\n",
        "Both AdaBoost and Gradient Boosting are boosting algorithms, but they differ in their approach to error correction:\n",
        "\n",
        "Error Handling Approach:\n",
        "\n",
        "AdaBoost (Adaptive Boosting): Assigns weights to data points. Misclassified samples get higher weights, and the next learner focuses more on them.\n",
        "\n",
        "Gradient Boosting: Uses gradient descent optimization. It minimizes a loss function by fitting new learners to the residual errors of previous models.\n",
        "\n",
        "Training Mechanism:\n",
        "\n",
        "AdaBoost: Sequentially adjusts sample weights based on errors.\n",
        "\n",
        "Gradient Boosting: Sequentially fits models to the negative gradient of the loss function.\n",
        "\n",
        "Flexibility:\n",
        "\n",
        "AdaBoost: Works best with classification problems.\n",
        "\n",
        "Gradient Boosting: More flexible, works with classification, regression, and ranking tasks.\n",
        "\n",
        "Summary: AdaBoost corrects errors by reweighting misclassified samples, whereas Gradient Boosting corrects errors by optimizing a loss function via gradient descent."
      ],
      "metadata": {
        "id": "bxkGo6S8iWs7"
      }
    },
    {
      "cell_type": "markdown",
      "source": [
        "## Question 3: How does regularization help in **XGBoost**?\n",
        "\n",
        "Answer:\n",
        "Regularization in XGBoost is one of the key reasons for its success. It controls model complexity and prevents overfitting.\n",
        "\n",
        "Types of Regularization in XGBoost:\n",
        "\n",
        "L1 Regularization (Lasso): Shrinks coefficients and can eliminate irrelevant features by setting their weights to zero.\n",
        "\n",
        "L2 Regularization (Ridge): Smooths large weights to avoid over-reliance on specific features.\n",
        "\n",
        "Tree-specific regularization: Parameters like max_depth, min_child_weight, and subsample control tree growth and prevent overly complex models.\n",
        "\n",
        "Benefits:\n",
        "\n",
        "Prevents overfitting by penalizing overly complex models.\n",
        "\n",
        "Improves generalization on unseen data.\n",
        "\n",
        "Encourages sparsity, making the model faster and more interpretable.\n",
        "\n",
        "Thus, regularization in XGBoost strikes a balance between model complexity and predictive performance."
      ],
      "metadata": {
        "id": "dJWk7tTgiglf"
      }
    },
    {
      "cell_type": "markdown",
      "source": [
        "## Question 4: Why is CatBoost considered efficient **for** handling categorical data?\n",
        "\n",
        "Answer:\n",
        "CatBoost (Categorical Boosting) is specifically designed to handle categorical features efficiently without extensive preprocessing.\n",
        "\n",
        "Reasons why CatBoost is efficient:\n",
        "\n",
        "No need for one-hot encoding: It directly handles categorical variables using permutation-based statistics.\n",
        "\n",
        "Efficient encoding: Converts categorical values into numerical form by calculating average target values in a way that avoids target leakage.\n",
        "\n",
        "Ordered boosting: Reduces prediction shift and prevents overfitting when dealing with categorical features.\n",
        "\n",
        "Fast and user-friendly: Automatically detects categorical variables and handles them internally.\n",
        "\n",
        "Advantage: Unlike other boosting algorithms (like XGBoost or LightGBM) that require manual encoding, CatBoost natively processes categorical features, saving time and improving accuracy."
      ],
      "metadata": {
        "id": "AfrvCULkilnn"
      }
    },
    {
      "cell_type": "markdown",
      "source": [
        "## **Question 5: What are some real-world applications where boosting techniques are preferred over bagging methods?**\n",
        "\n",
        "Answer:\n",
        "Boosting is often preferred over bagging when high accuracy and error reduction are critical. Some applications include:\n",
        "\n",
        "Fraud Detection: Boosting models like XGBoost and LightGBM are widely used to detect fraudulent transactions due to their ability to capture complex relationships.\n",
        "\n",
        "Credit Scoring & Loan Default Prediction: Boosting handles imbalanced datasets better, making it ideal for financial risk analysis.\n",
        "\n",
        "Medical Diagnosis: In healthcare, boosting models help in early disease detection (e.g., cancer detection using medical datasets).\n",
        "\n",
        "E-commerce Recommendations: Boosting algorithms are used to predict customer preferences and improve recommendation systems.\n",
        "\n",
        "Search Engine Ranking: Gradient Boosting is used by search engines to rank web pages based on relevance.\n",
        "\n",
        "Summary: Boosting techniques excel in applications requiring high precision and robustness, often outperforming bagging methods like Random Forest."
      ],
      "metadata": {
        "id": "6iPj9FZZipvp"
      }
    },
    {
      "cell_type": "markdown",
      "source": [
        "## Question 6: Train an AdaBoost Classifier on the Breast **Cancer** dataset and print accuracy\n",
        "\n",
        "Answer:\n",
        "AdaBoost (Adaptive Boosting) works by combining many weak learners (usually shallow decision trees). Each subsequent learner pays more attention to the samples that were misclassified earlier, which helps improve overall performance."
      ],
      "metadata": {
        "id": "MGKV4Mz3i1Wo"
      }
    },
    {
      "cell_type": "code",
      "source": [
        "#QUESTION 6:\n",
        "from sklearn.datasets import load_breast_cancer\n",
        "from sklearn.model_selection import train_test_split\n",
        "from sklearn.ensemble import AdaBoostClassifier\n",
        "from sklearn.metrics import accuracy_score\n",
        "\n",
        "# Load dataset\n",
        "data = load_breast_cancer()\n",
        "X, y = data.data, data.target\n",
        "\n",
        "# Split into training and testing sets\n",
        "X_train, X_test, y_train, y_test = train_test_split(\n",
        "    X, y, test_size=0.25, random_state=42, stratify=y\n",
        ")\n",
        "\n",
        "# Train AdaBoost model\n",
        "model = AdaBoostClassifier(n_estimators=200, learning_rate=0.5, random_state=42)\n",
        "model.fit(X_train, y_train)\n",
        "\n",
        "# Predictions and accuracy\n",
        "y_pred = model.predict(X_test)\n",
        "accuracy = accuracy_score(y_test, y_pred)\n",
        "\n",
        "print(\"AdaBoost Accuracy:\", round(accuracy, 4))\n"
      ],
      "metadata": {
        "colab": {
          "base_uri": "https://localhost:8080/"
        },
        "id": "3oud3f-SjccD",
        "outputId": "403c185d-eb1f-416e-bd86-32acc23adf1a"
      },
      "execution_count": 6,
      "outputs": [
        {
          "output_type": "stream",
          "name": "stdout",
          "text": [
            "AdaBoost Accuracy: 0.958\n"
          ]
        }
      ]
    },
    {
      "cell_type": "markdown",
      "source": [
        "## **Question 7: Train a Gradient Boosting Regressor on the California Housing dataset and evaluate with R-squared**\n",
        "\n",
        "Answer:\n",
        "Gradient Boosting builds models sequentially, where each new model corrects the errors of the previous one by fitting to the residuals. For regression, performance can be measured using the R-squared (R²) score, which indicates how much variance in the target is explained by the model."
      ],
      "metadata": {
        "id": "c8Zc3yR2jjKF"
      }
    },
    {
      "cell_type": "code",
      "source": [
        "#QUESTION 7:\n",
        "from sklearn.datasets import fetch_california_housing\n",
        "from sklearn.model_selection import train_test_split\n",
        "from sklearn.ensemble import GradientBoostingRegressor\n",
        "from sklearn.metrics import r2_score\n",
        "\n",
        "# Load dataset\n",
        "housing = fetch_california_housing()\n",
        "X, y = housing.data, housing.target\n",
        "\n",
        "# Split into training and testing sets\n",
        "X_train, X_test, y_train, y_test = train_test_split(\n",
        "    X, y, test_size=0.25, random_state=42\n",
        ")\n",
        "\n",
        "# Train Gradient Boosting Regressor\n",
        "gbr = GradientBoostingRegressor(n_estimators=300, learning_rate=0.05, max_depth=3, random_state=42)\n",
        "gbr.fit(X_train, y_train)\n",
        "\n",
        "# Predictions and evaluation\n",
        "y_pred = gbr.predict(X_test)\n",
        "r2 = r2_score(y_test, y_pred)\n",
        "\n",
        "print(\"Gradient Boosting R^2 Score:\", round(r2, 4))\n"
      ],
      "metadata": {
        "colab": {
          "base_uri": "https://localhost:8080/"
        },
        "id": "MakAguJ0jrlJ",
        "outputId": "62cc21a6-8a78-408e-cd75-bfc49d5ecf69"
      },
      "execution_count": 7,
      "outputs": [
        {
          "output_type": "stream",
          "name": "stdout",
          "text": [
            "Gradient Boosting R^2 Score: 0.7957\n"
          ]
        }
      ]
    },
    {
      "cell_type": "markdown",
      "source": [
        "## **Question 8: Train an XGBoost Classifier on the Breast Cancer dataset, tune learning_rate using GridSearchCV, and print best parameters & accuracy**\n",
        "\n",
        "Answer:\n",
        "XGBoost is an advanced boosting algorithm with built-in regularization and fast performance. The learning_rate parameter controls how much each tree contributes to the overall model. A proper value is found using GridSearchCV."
      ],
      "metadata": {
        "id": "3XuiCYu9jw86"
      }
    },
    {
      "cell_type": "code",
      "source": [
        "#QUESTION 8\n",
        "from xgboost import XGBClassifier\n",
        "from sklearn.datasets import load_breast_cancer\n",
        "from sklearn.model_selection import train_test_split, GridSearchCV\n",
        "from sklearn.metrics import accuracy_score\n",
        "\n",
        "# Load dataset\n",
        "data = load_breast_cancer()\n",
        "X, y = data.data, data.target\n",
        "\n",
        "# Split into training and testing sets\n",
        "X_train, X_test, y_train, y_test = train_test_split(\n",
        "    X, y, test_size=0.25, random_state=42, stratify=y\n",
        ")\n",
        "\n",
        "# Define model\n",
        "xgb = XGBClassifier(\n",
        "    n_estimators=300,\n",
        "    max_depth=3,\n",
        "    subsample=0.9,\n",
        "    colsample_bytree=0.9,\n",
        "    eval_metric=\"logloss\",\n",
        "    random_state=42,\n",
        "    n_jobs=-1\n",
        ")\n",
        "\n",
        "# Hyperparameter tuning for learning_rate\n",
        "param_grid = {\"learning_rate\": [0.01, 0.05, 0.1, 0.2]}\n",
        "grid = GridSearchCV(estimator=xgb, param_grid=param_grid, cv=5, scoring=\"accuracy\", n_jobs=-1)\n",
        "grid.fit(X_train, y_train)\n",
        "\n",
        "# Best model\n",
        "best_model = grid.best_estimator_\n",
        "y_pred = best_model.predict(X_test)\n",
        "accuracy = accuracy_score(y_test, y_pred)\n",
        "\n",
        "print(\"Best Parameters:\", grid.best_params_)\n",
        "print(\"Test Accuracy:\", round(accuracy, 4))\n"
      ],
      "metadata": {
        "colab": {
          "base_uri": "https://localhost:8080/"
        },
        "id": "qA21cdkoj2bZ",
        "outputId": "cc13846b-3212-41fe-e531-5d6bdf9dd2dc"
      },
      "execution_count": 8,
      "outputs": [
        {
          "output_type": "stream",
          "name": "stdout",
          "text": [
            "Best Parameters: {'learning_rate': 0.2}\n",
            "Test Accuracy: 0.965\n"
          ]
        }
      ]
    },
    {
      "cell_type": "markdown",
      "source": [
        "## **Question** 9: Train a CatBoost Classifier and plot the confusion matrix using seaborn\n",
        "\n",
        "Answer:\n",
        "CatBoost is a boosting algorithm optimized for categorical and tabular data. It avoids extensive preprocessing and reduces overfitting through ordered boosting. A confusion matrix helps visualize classification performance."
      ],
      "metadata": {
        "id": "hPpshH0Bj80H"
      }
    },
    {
      "cell_type": "code",
      "source": [
        "#QUESTION 9:\n",
        "from catboost import CatBoostClassifier\n",
        "from sklearn.datasets import load_breast_cancer\n",
        "from sklearn.model_selection import train_test_split\n",
        "from sklearn.metrics import confusion_matrix\n",
        "import seaborn as sns\n",
        "import matplotlib.pyplot as plt\n",
        "\n",
        "# Load dataset\n",
        "data = load_breast_cancer()\n",
        "X, y = data.data, data.target\n",
        "\n",
        "# Split dataset\n",
        "X_train, X_test, y_train, y_test = train_test_split(\n",
        "    X, y, test_size=0.25, random_state=42, stratify=y\n",
        ")\n",
        "\n",
        "# Train CatBoost model (silent=True to suppress training logs)\n",
        "model = CatBoostClassifier(iterations=300, depth=6, learning_rate=0.1, random_state=42, verbose=0)\n",
        "model.fit(X_train, y_train)\n",
        "\n",
        "# Predictions\n",
        "y_pred = model.predict(X_test)\n",
        "\n",
        "# Confusion Matrix\n",
        "cm = confusion_matrix(y_test, y_pred)\n",
        "\n",
        "# Plot\n",
        "plt.figure(figsize=(6,4))\n",
        "sns.heatmap(cm, annot=True, fmt='d', cmap='Blues', xticklabels=data.target_names, yticklabels=data.target_names)\n",
        "plt.xlabel(\"Predicted\")\n",
        "plt.ylabel(\"Actual\")\n",
        "plt.title(\"Confusion Matrix - CatBoost on Breast Cancer Dataset\")\n",
        "plt.show()\n"
      ],
      "metadata": {
        "colab": {
          "base_uri": "https://localhost:8080/",
          "height": 410
        },
        "id": "5psteMEekFNw",
        "outputId": "d606c3b1-288d-4da7-8d37-256a47f05d91"
      },
      "execution_count": 9,
      "outputs": [
        {
          "output_type": "display_data",
          "data": {
            "text/plain": [
              "<Figure size 600x400 with 2 Axes>"
            ],
            "image/png": "[encoded data removed]"
          },
          "metadata": {}
        }
      ]
    },
    {
      "cell_type": "code",
      "metadata": {
        "colab": {
          "base_uri": "https://localhost:8080/"
        },
        "id": "1d2570de",
        "outputId": "9fd556e1-6277-4822-9afa-6e09b79eac65"
      },
      "source": [
        "!pip install catboost"
      ],
      "execution_count": 10,
      "outputs": [
        {
          "output_type": "stream",
          "name": "stdout",
          "text": [
            "Requirement already satisfied: catboost in /usr/local/lib/python3.12/dist-packages (1.2.8)\n",
            "Requirement already satisfied: graphviz in /usr/local/lib/python3.12/dist-packages (from catboost) (0.21)\n",
            "Requirement already satisfied: matplotlib in /usr/local/lib/python3.12/dist-packages (from catboost) (3.10.0)\n",
            "Requirement already satisfied: numpy<3.0,>=1.16.0 in /usr/local/lib/python3.12/dist-packages (from catboost) (2.0.2)\n",
            "Requirement already satisfied: pandas>=0.24 in /usr/local/lib/python3.12/dist-packages (from catboost) (2.2.2)\n",
            "Requirement already satisfied: scipy in /usr/local/lib/python3.12/dist-packages (from catboost) (1.16.1)\n",
            "Requirement already satisfied: plotly in /usr/local/lib/python3.12/dist-packages (from catboost) (5.24.1)\n",
            "Requirement already satisfied: six in /usr/local/lib/python3.12/dist-packages (from catboost) (1.17.0)\n",
            "Requirement already satisfied: python-dateutil>=2.8.2 in /usr/local/lib/python3.12/dist-packages (from pandas>=0.24->catboost) (2.9.0.post0)\n",
            "Requirement already satisfied: pytz>=2020.1 in /usr/local/lib/python3.12/dist-packages (from pandas>=0.24->catboost) (2025.2)\n",
            "Requirement already satisfied: tzdata>=2022.7 in /usr/local/lib/python3.12/dist-packages (from pandas>=0.24->catboost) (2025.2)\n",
            "Requirement already satisfied: contourpy>=1.0.1 in /usr/local/lib/python3.12/dist-packages (from matplotlib->catboost) (1.3.3)\n",
            "Requirement already satisfied: cycler>=0.10 in /usr/local/lib/python3.12/dist-packages (from matplotlib->catboost) (0.12.1)\n",
            "Requirement already satisfied: fonttools>=4.22.0 in /usr/local/lib/python3.12/dist-packages (from matplotlib->catboost) (4.59.1)\n",
            "Requirement already satisfied: kiwisolver>=1.3.1 in /usr/local/lib/python3.12/dist-packages (from matplotlib->catboost) (1.4.9)\n",
            "Requirement already satisfied: packaging>=20.0 in /usr/local/lib/python3.12/dist-packages (from matplotlib->catboost) (25.0)\n",
            "Requirement already satisfied: pillow>=8 in /usr/local/lib/python3.12/dist-packages (from matplotlib->catboost) (11.3.0)\n",
            "Requirement already satisfied: pyparsing>=2.3.1 in /usr/local/lib/python3.12/dist-packages (from matplotlib->catboost) (3.2.3)\n",
            "Requirement already satisfied: tenacity>=6.2.0 in /usr/local/lib/python3.12/dist-packages (from plotly->catboost) (8.5.0)\n"
          ]
        }
      ]
    },
    {
      "cell_type": "markdown",
      "source": [
        "## **Question 10: FinTech loan default prediction pipeline using boosting techniques**\n",
        "\n",
        "Answer:\n",
        "When predicting loan default in a FinTech setting, the dataset often has challenges like imbalance, missing values, and mixed feature types. Boosting methods are well-suited due to their robustness.\n",
        "\n",
        "Step-by-Step Pipeline:\n",
        "\n",
        "Data Preprocessing\n",
        "\n",
        "Handle missing values: impute numeric features with median, categorical with most frequent.\n",
        "\n",
        "Encode categorical variables: CatBoost can handle them directly; otherwise, use one-hot or target encoding.\n",
        "\n",
        "Normalize/scale numerical features if needed.\n",
        "\n",
        "Choice of Algorithm\n",
        "\n",
        "AdaBoost: Works for simpler, balanced datasets but less effective on imbalanced ones.\n",
        "\n",
        "XGBoost: Strong for large-scale numeric data with powerful regularization.\n",
        "\n",
        "CatBoost: Ideal when categorical features are significant.\n",
        "\n",
        "In this case, CatBoost or XGBoost would be preferred.\n",
        "\n",
        "Hyperparameter Tuning\n",
        "\n",
        "Use GridSearchCV or RandomizedSearchCV to tune learning_rate, max_depth, and n_estimators.\n",
        "\n",
        "For imbalanced data, adjust scale_pos_weight in XGBoost or use class weights.\n",
        "\n",
        "Evaluation Metrics\n",
        "\n",
        "Since the dataset is imbalanced, accuracy is misleading.\n",
        "\n",
        "Use Precision, Recall, F1-score, and AUC-ROC.\n",
        "\n",
        "AUC is especially useful for ranking customers by default risk.\n",
        "\n",
        "Business Benefits\n",
        "\n",
        "Improved accuracy reduces financial risk by correctly identifying likely defaulters.\n",
        "\n",
        "Better recall ensures fewer defaulters slip through undetected.\n",
        "\n",
        "Helps design fair lending policies and personalized offers."
      ],
      "metadata": {
        "id": "zIEIYh7elVtX"
      }
    },
    {
      "cell_type": "code",
      "source": [
        "#QUESTION 10:\n",
        "from xgboost import XGBClassifier\n",
        "from sklearn.model_selection import train_test_split\n",
        "from sklearn.metrics import classification_report, roc_auc_score\n",
        "from sklearn.datasets import make_classification\n",
        "\n",
        "# Simulated imbalanced dataset (replace with real loan dataset)\n",
        "X, y = make_classification(n_samples=2000, n_features=20, weights=[0.8,0.2], random_state=42)\n",
        "\n",
        "X_train, X_test, y_train, y_test = train_test_split(\n",
        "    X, y, test_size=0.3, random_state=42, stratify=y\n",
        ")\n",
        "\n",
        "# XGBoost with imbalance handling\n",
        "xgb = XGBClassifier(\n",
        "    n_estimators=300,\n",
        "    learning_rate=0.1,\n",
        "    max_depth=5,\n",
        "    scale_pos_weight=4,   # weight to handle imbalance\n",
        "    random_state=42,\n",
        "    eval_metric=\"logloss\"\n",
        ")\n",
        "xgb.fit(X_train, y_train)\n",
        "\n",
        "# Predictions\n",
        "y_pred = xgb.predict(X_test)\n",
        "\n",
        "print(\"Classification Report:\\n\", classification_report(y_test, y_pred))\n",
        "print(\"ROC-AUC Score:\", roc_auc_score(y_test, xgb.predict_proba(X_test)[:,1]))\n"
      ],
      "metadata": {
        "colab": {
          "base_uri": "https://localhost:8080/"
        },
        "id": "YSCtbeDslZMw",
        "outputId": "a95e7bb4-7d7e-40a6-ce32-8a93d18407a0"
      },
      "execution_count": 11,
      "outputs": [
        {
          "output_type": "stream",
          "name": "stdout",
          "text": [
            "Classification Report:\n",
            "               precision    recall  f1-score   support\n",
            "\n",
            "           0       0.96      0.96      0.96       479\n",
            "           1       0.83      0.83      0.83       121\n",
            "\n",
            "    accuracy                           0.93       600\n",
            "   macro avg       0.89      0.90      0.89       600\n",
            "weighted avg       0.93      0.93      0.93       600\n",
            "\n",
            "ROC-AUC Score: 0.967511516761849\n"
          ]
        }
      ]
    }
  ]
}